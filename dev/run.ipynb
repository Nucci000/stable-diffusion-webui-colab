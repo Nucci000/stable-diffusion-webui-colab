{
 "cells": [
  {
   "cell_type": "code",
   "execution_count": 4,
   "metadata": {},
   "outputs": [
    {
     "ename": "FileNotFoundError",
     "evalue": "[WinError 3] Das System kann den angegebenen Pfad nicht finden: 'C://Users//PC//Desktop//stable-diffusion-webui-colab//nightly'",
     "output_type": "error",
     "traceback": [
      "\u001b[1;31m---------------------------------------------------------------------------\u001b[0m",
      "\u001b[1;31mFileNotFoundError\u001b[0m                         Traceback (most recent call last)",
      "\u001b[1;32mc:\\Users\\knutt\\Documents\\GitHub\\stable-diffusion-webui-colab\\dev\\run.ipynb Zelle 1\u001b[0m line \u001b[0;36m5\n\u001b[0;32m      <a href='vscode-notebook-cell:/c%3A/Users/knutt/Documents/GitHub/stable-diffusion-webui-colab/dev/run.ipynb#W0sZmlsZQ%3D%3D?line=1'>2</a>\u001b[0m \u001b[39mimport\u001b[39;00m \u001b[39mjson\u001b[39;00m\n\u001b[0;32m      <a href='vscode-notebook-cell:/c%3A/Users/knutt/Documents/GitHub/stable-diffusion-webui-colab/dev/run.ipynb#W0sZmlsZQ%3D%3D?line=3'>4</a>\u001b[0m directory_path \u001b[39m=\u001b[39m \u001b[39m'\u001b[39m\u001b[39mC://Users//PC//Desktop//stable-diffusion-webui-colab//nightly\u001b[39m\u001b[39m'\u001b[39m\n\u001b[1;32m----> <a href='vscode-notebook-cell:/c%3A/Users/knutt/Documents/GitHub/stable-diffusion-webui-colab/dev/run.ipynb#W0sZmlsZQ%3D%3D?line=4'>5</a>\u001b[0m file_list \u001b[39m=\u001b[39m os\u001b[39m.\u001b[39;49mlistdir(directory_path)\n\u001b[0;32m      <a href='vscode-notebook-cell:/c%3A/Users/knutt/Documents/GitHub/stable-diffusion-webui-colab/dev/run.ipynb#W0sZmlsZQ%3D%3D?line=6'>7</a>\u001b[0m \u001b[39mfor\u001b[39;00m filename \u001b[39min\u001b[39;00m file_list:\n\u001b[0;32m      <a href='vscode-notebook-cell:/c%3A/Users/knutt/Documents/GitHub/stable-diffusion-webui-colab/dev/run.ipynb#W0sZmlsZQ%3D%3D?line=7'>8</a>\u001b[0m     \u001b[39mif\u001b[39;00m filename\u001b[39m.\u001b[39mendswith(\u001b[39m'\u001b[39m\u001b[39m.ipynb\u001b[39m\u001b[39m'\u001b[39m):\n",
      "\u001b[1;31mFileNotFoundError\u001b[0m: [WinError 3] Das System kann den angegebenen Pfad nicht finden: 'C://Users//PC//Desktop//stable-diffusion-webui-colab//nightly'"
     ]
    }
   ],
   "source": [
    "import os\n",
    "import json\n",
    "\n",
    "directory_path = 'C://Users//PC//Desktop//stable-diffusion-webui-colab//nightly'\n",
    "file_list = os.listdir(directory_path)\n",
    "\n",
    "for filename in file_list:\n",
    "    if filename.endswith('.ipynb'):\n",
    "        new_filename = filename.replace('.ipynb', '_run.ipynb')\n",
    "        notebook_content = {\n",
    "    \"cells\": [\n",
    "        {\n",
    "            \"attachments\": {},\n",
    "            \"cell_type\": \"markdown\",\n",
    "            \"metadata\": {\"id\": \"view-in-github\"},\n",
    "            \"source\": [\n",
    "                f\"[![Open In Colab](https://colab.research.google.com/assets/colab-badge.svg)](https://colab.research.google.com/github/camenduru/stable-diffusion-webui-colab/blob/main/nightly/{new_filename})\"\n",
    "            ],\n",
    "        },\n",
    "        {\n",
    "            \"cell_type\": \"code\",\n",
    "            \"execution_count\": None,\n",
    "            \"metadata\": {},\n",
    "            \"outputs\": [],\n",
    "            \"source\": [\n",
    "                \"%cd /content\\n\",\n",
    "                \"import urllib, requests\\n\",\n",
    "                \"from notebook import notebookapp\\n\",\n",
    "                \"name = requests.get(f\\\"{list(notebookapp.list_running_servers())[0]['url']}api/sessions\\\").json()[0][\\\"name\\\"].replace(\\\"_run\\\", \\\"\\\")\\n\",\n",
    "                \"url = '/'.join(urllib.parse.unquote(requests.get(f\\\"{list(notebookapp.list_running_servers())[0]['url']}api/sessions\\\").json()[0][\\\"path\\\"].split(\\\"=\\\", 1)[1]).split(\\\"/\\\")).replace(\\\"/blob/\\\", \\\"/\\\").replace(\\\"github.com\\\", \\\"raw.githubusercontent.com\\\").replace(\\\"_run\\\", \\\"\\\")\\n\",\n",
    "                \"!wget {url} -O {name}\\n\",\n",
    "                \"%run {name}\"\n",
    "            ],\n",
    "        },\n",
    "    ],\n",
    "    \"metadata\": {\n",
    "        \"accelerator\": \"GPU\",\n",
    "        \"colab\": {\n",
    "            \"collapsed_sections\": [],\n",
    "            \"private_outputs\": True,\n",
    "            \"provenance\": [],\n",
    "        },\n",
    "        \"gpuClass\": \"standard\",\n",
    "        \"kernelspec\": {\n",
    "            \"display_name\": \"Python 3\",\n",
    "            \"language\": \"python\",\n",
    "            \"name\": \"python3\",\n",
    "        },\n",
    "        \"language_info\": {\n",
    "            \"name\": \"python\",\n",
    "            \"version\": \"3.10.8\",\n",
    "        },\n",
    "    },\n",
    "    \"nbformat\": 4,\n",
    "    \"nbformat_minor\": 0,\n",
    "}\n",
    "        \n",
    "        with open(os.path.join(directory_path, new_filename), 'w') as notebook_file:\n",
    "            json.dump(notebook_content, notebook_file, indent=2)"
   ]
  }
 ],
 "metadata": {
  "kernelspec": {
   "display_name": "Python 3",
   "language": "python",
   "name": "python3"
  },
  "language_info": {
   "codemirror_mode": {
    "name": "ipython",
    "version": 3
   },
   "file_extension": ".py",
   "mimetype": "text/x-python",
   "name": "python",
   "nbconvert_exporter": "python",
   "pygments_lexer": "ipython3",
   "version": "3.12.0"
  },
  "orig_nbformat": 4
 },
 "nbformat": 4,
 "nbformat_minor": 2
}
